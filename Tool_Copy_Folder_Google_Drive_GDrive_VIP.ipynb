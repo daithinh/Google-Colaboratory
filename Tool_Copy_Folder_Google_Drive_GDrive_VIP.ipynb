{
  "nbformat": 4,
  "nbformat_minor": 0,
  "metadata": {
    "colab": {
      "name": "Tool Copy Folder Google Drive - GDrive.VIP.ipynb",
      "provenance": [],
      "collapsed_sections": [
        "lxTFXZi41jYa",
        "csh-zappftKC",
        "zBwf5A5Wftc8",
        "kl-_gj6Oft5g",
        "g8mEjIQc3j3K",
        "8hn-EXIW555r"
      ]
    },
    "kernelspec": {
      "name": "python3",
      "display_name": "Python 3"
    }
  },
  "cells": [
    {
      "cell_type": "markdown",
      "metadata": {
        "id": "tJtZI0ESApt7"
      },
      "source": [
        "<center><a href=\"https://gdrive.vip/\"><img src='https://gdrive.vip/wp-content/uploads/2018/11/logo.png' height=\"70\" alt=\"Google Drive Unlimite\"/></a> <a href=\"https://www.facebook.com/groups/978477625939665\"><img src='https://fptshop.com.vn/Uploads/images/2015/Tin-Tuc/04/25/Quan_ly_Group_Facebook(6).jpg' height=\"80\" alt=\"Tham gia nhóm Facebook\"/></a> <br/>Mã nguồn được viết bởi <a href=\"https://github.com/alx-xlx\">alx-xlx</a>, Việt hoá bởi <a href=\"https://gdrive.vip\">GDrive.VIP</a></center>"
      ]
    },
    {
      "cell_type": "markdown",
      "metadata": {
        "id": "lxTFXZi41jYa"
      },
      "source": [
        "# **`#0`** <font size=5px color=\"blue\">Mount Google Drive của bạn (**Yêu cầu**)</font>"
      ]
    },
    {
      "cell_type": "markdown",
      "metadata": {
        "id": "QKDEo3O42X5S"
      },
      "source": [
        "**Mount**\n",
        "(Bắt buộc)"
      ]
    },
    {
      "cell_type": "code",
      "metadata": {
        "id": "KPDQawnG1Z0p",
        "colab": {
          "base_uri": "https://localhost:8080/"
        },
        "outputId": "475d9094-ae40-49bd-ad72-adc18f73f1aa"
      },
      "source": [
        "from google.colab import drive\n",
        "drive.mount('/gdrive')"
      ],
      "execution_count": null,
      "outputs": [
        {
          "output_type": "stream",
          "text": [
            "Mounted at /gdrive\n"
          ],
          "name": "stdout"
        }
      ]
    },
    {
      "cell_type": "markdown",
      "metadata": {
        "id": "CgDOIoVu199J"
      },
      "source": [
        "**Kiểm tra tốc độ mạng - Check Network Speed** (Không bắt buộc)"
      ]
    },
    {
      "cell_type": "code",
      "metadata": {
        "id": "YSmUUwrp3b5D",
        "colab": {
          "base_uri": "https://localhost:8080/"
        },
        "outputId": "8a26241c-67b1-43e1-f4ab-99a11d20a26c"
      },
      "source": [
        "!curl -s https://raw.githubusercontent.com/sivel/speedtest-cli/master/speedtest.py | python -"
      ],
      "execution_count": null,
      "outputs": [
        {
          "output_type": "stream",
          "text": [
            "Retrieving speedtest.net configuration...\n",
            "Testing from Google Cloud (35.234.41.227)...\n",
            "Retrieving speedtest.net server list...\n",
            "Selecting best server based on ping...\n",
            "Hosted by Taiwan Mobile (Taipei) [1.90 km]: 5.528 ms\n",
            "Testing download speed................................................................................\n",
            "Download: 1517.54 Mbit/s\n",
            "Testing upload speed......................................................................................................\n",
            "Upload: 841.17 Mbit/s\n"
          ],
          "name": "stdout"
        }
      ]
    },
    {
      "cell_type": "markdown",
      "metadata": {
        "id": "AM_HAOnOem0v"
      },
      "source": [
        "**Kiểm tra ip - Check IP** (Không bắt buộc)"
      ]
    },
    {
      "cell_type": "code",
      "metadata": {
        "id": "zv47d4QTeluA",
        "colab": {
          "base_uri": "https://localhost:8080/"
        },
        "outputId": "063f1610-7585-4c09-8ac8-1c21181ad123"
      },
      "source": [
        "!curl -s http://checkip.amazonaws.com"
      ],
      "execution_count": null,
      "outputs": [
        {
          "output_type": "stream",
          "text": [
            "35.234.41.227\n"
          ],
          "name": "stdout"
        }
      ]
    },
    {
      "cell_type": "markdown",
      "metadata": {
        "id": "Y-GQ1QS46S4L"
      },
      "source": [
        "---\n",
        "---"
      ]
    },
    {
      "cell_type": "markdown",
      "metadata": {
        "id": "csh-zappftKC"
      },
      "source": [
        "# **`#1`** <font size=5px color=\"blue\">Copy Folder trong **Drive của tôi** *(My Drive)*</font>"
      ]
    },
    {
      "cell_type": "markdown",
      "metadata": {
        "id": "QbW6PhaXiKSc"
      },
      "source": [
        "### 1. Thay thế\n",
        "- `FOLDER_PATH` - Tên Folder muốn copy đi\n",
        "- `DESTINATION_PATH` - Tên Folder muốn copy đến"
      ]
    },
    {
      "cell_type": "markdown",
      "metadata": {
        "id": "CtB0-MLk99kY"
      },
      "source": [
        "### 2. Chạy đế bắt đầu COPY"
      ]
    },
    {
      "cell_type": "code",
      "metadata": {
        "id": "MGWDn6j3gc_o"
      },
      "source": [
        "!cp -av '/gdrive/My Drive/FOLDER_PATH' '/gdrive/My Drive/DESTINATION_PATH"
      ],
      "execution_count": null,
      "outputs": []
    },
    {
      "cell_type": "markdown",
      "metadata": {
        "id": "umRa9VGVuyLw"
      },
      "source": [
        "---\n",
        "---"
      ]
    },
    {
      "cell_type": "markdown",
      "metadata": {
        "id": "zBwf5A5Wftc8"
      },
      "source": [
        "# **`#2`** <font size=5px color=\"blue\">Copy Folder trong **Bộ nhớ dùng chung** *(Shared Drives)*</font>"
      ]
    },
    {
      "cell_type": "markdown",
      "metadata": {
        "id": "-QzSW_FTj1l1"
      },
      "source": [
        "### 1. Chạy lệnh dưới đây để hiển thị danh sách Bộ nhớ dùng chung của bạn"
      ]
    },
    {
      "cell_type": "code",
      "metadata": {
        "id": "PsBlht1ojz3J"
      },
      "source": [
        "!ls '/gdrive/Shared drives'"
      ],
      "execution_count": null,
      "outputs": []
    },
    {
      "cell_type": "markdown",
      "metadata": {
        "id": "7B3HfzF-kUkE"
      },
      "source": [
        "### 2. Thay thế \n",
        "\n",
        "*   `TEAMDRIVE` - Tên Bộ nhớ dùng chung\n",
        "*   `SOURCE_FOLDER` - Tên Folder muốn copy đi\n",
        "*   `DESTINATION_FOLDER` - Tên Folder muốn copy đến\n",
        "\n",
        "\n",
        "Ví dụ: \n",
        "\n",
        "```\n",
        "!cp -av '/gdrive/Shared drives/alex/testfolder' '/gdrive/Shared drives/alex/newfolder'\n",
        "```\n",
        "\n",
        "![alt text](https://i.imgur.com/DiHA39S.png)"
      ]
    },
    {
      "cell_type": "markdown",
      "metadata": {
        "id": "flvx0M6GvmLL"
      },
      "source": [
        "### 3. Chạy đế bắt đầu COPY"
      ]
    },
    {
      "cell_type": "code",
      "metadata": {
        "id": "jc99JEuRkUkG"
      },
      "source": [
        "!cp -av '/gdrive/Shared drives/TEAMDRIVE/SOURCE_FOLDER' '/gdrive/Shared drives/TEAMDRIVE/DESTINATION_FOLDER'"
      ],
      "execution_count": null,
      "outputs": []
    },
    {
      "cell_type": "markdown",
      "metadata": {
        "id": "s-nWHHPYu3aE"
      },
      "source": [
        "---\n",
        "---"
      ]
    },
    {
      "cell_type": "markdown",
      "metadata": {
        "id": "kl-_gj6Oft5g"
      },
      "source": [
        "# **`#3`** <font size=5px color=\"blue\">Copy Folder từ **Drive của tôi** *(My Drive)* sang **Bộ nhớ dùng chung** *(Shared Drive)*</font>"
      ]
    },
    {
      "cell_type": "markdown",
      "metadata": {
        "id": "9qwzSm6wsjTG"
      },
      "source": [
        "### 1. Chạy lệnh dưới đây để hiển thị danh sách **Bộ nhớ dùng chung** của bạn"
      ]
    },
    {
      "cell_type": "code",
      "metadata": {
        "id": "3GNRHJ_XsjTI"
      },
      "source": [
        "!ls '/gdrive/Shared drives'"
      ],
      "execution_count": null,
      "outputs": []
    },
    {
      "cell_type": "markdown",
      "metadata": {
        "id": "Uwf0yenUsqof"
      },
      "source": [
        "### 2. Thay thế"
      ]
    },
    {
      "cell_type": "markdown",
      "metadata": {
        "id": "O9BJopGMsqog"
      },
      "source": [
        "*   `TEAMDRIVE` - Tên Bộ nhớ dùng chung\n",
        "*   `FOLDER` - Tên Folder muốn copy đi\n",
        "\n",
        "Ví dụ: \n",
        "\n",
        "```\n",
        "!cp -av '/gdrive/Shared drives/alex/testfolder' '/gdrive/My Drive/'\n",
        "```\n",
        "\n",
        "![alt text](https://i.imgur.com/DiHA39S.png)\n"
      ]
    },
    {
      "cell_type": "markdown",
      "metadata": {
        "id": "l-KBPA_Y9zC4"
      },
      "source": [
        "### 3. Chạy đế bắt đầu COPY"
      ]
    },
    {
      "cell_type": "code",
      "metadata": {
        "id": "cSeiP4Lgsqoh"
      },
      "source": [
        "!cp -av '/gdrive/My Drive/FOLDER' '/gdrive/Shared drives/TEAMDRIVE/' "
      ],
      "execution_count": null,
      "outputs": []
    },
    {
      "cell_type": "markdown",
      "metadata": {
        "id": "edOfp9Ndu8fa"
      },
      "source": [
        "---\n",
        "---"
      ]
    },
    {
      "cell_type": "markdown",
      "metadata": {
        "id": "g8mEjIQc3j3K"
      },
      "source": [
        "# **`#4`** <font size=5px color=\"blue\">Copy Folder từ **Bộ nhớ dùng chung** *(Shared Drives)* sang **Drive của tôi** *(My Drive)*</font>"
      ]
    },
    {
      "cell_type": "markdown",
      "metadata": {
        "id": "u5chHrpJsIWo"
      },
      "source": [
        "### 1. Chạy lệnh dưới đây để hiển thị danh sách **Bộ nhớ dùng chung** của bạn\n",
        "##### *Bộ nhớ dùng chung ẩn sẽ không được liệt kê*\n",
        "##### *(Bạn cần kiểm tra có Bộ nhớ dùng chung nào bị ẩn không)*"
      ]
    },
    {
      "cell_type": "code",
      "metadata": {
        "id": "zQs2Gq383sIU",
        "colab": {
          "base_uri": "https://localhost:8080/"
        },
        "outputId": "fb95d6ce-a231-42bb-ae70-4d333b451122"
      },
      "source": [
        "!ls '/gdrive/Shared drives'"
      ],
      "execution_count": null,
      "outputs": [
        {
          "output_type": "stream",
          "text": [
            "trankhoa1989@gmail.com\n"
          ],
          "name": "stdout"
        }
      ]
    },
    {
      "cell_type": "markdown",
      "metadata": {
        "id": "6on7RCTp8x-q"
      },
      "source": [
        "### 2. Thay thế"
      ]
    },
    {
      "cell_type": "markdown",
      "metadata": {
        "id": "hRkajQfZsSzW"
      },
      "source": [
        "*   `TEAMDRIVE` - Tên Bộ nhớ dùng chung\n",
        "*   `FOLDER` - Tên Folder muốn copy đến\n",
        "\n",
        "Example : \n",
        "\n",
        "```\n",
        "!cp -av '/gdrive/Shared drives/alex/testfolder' '/gdrive/My Drive/'\n",
        "```\n",
        "\n",
        "![alt text](https://i.imgur.com/DiHA39S.png)"
      ]
    },
    {
      "cell_type": "code",
      "metadata": {
        "id": "7RC_U2uQ3sBT",
        "colab": {
          "base_uri": "https://localhost:8080/"
        },
        "outputId": "5d740b72-384e-456d-a191-479c169c5311"
      },
      "source": [
        "!cp -av '/gdrive/Shared drives/trankhoa1989@gmail.com/Khoa nè/KTH'/gdrive/My Drive/'"
      ],
      "execution_count": null,
      "outputs": [
        {
          "output_type": "stream",
          "text": [
            "/bin/bash: -c: line 0: unexpected EOF while looking for matching `''\n",
            "/bin/bash: -c: line 1: syntax error: unexpected end of file\n"
          ],
          "name": "stdout"
        }
      ]
    },
    {
      "cell_type": "markdown",
      "metadata": {
        "id": "8hn-EXIW555r"
      },
      "source": [
        "# **`#5`** <font size=5px color=\"blue\">Copy Folder từ **Bộ nhớ dùng chung này** sang **Bộ nhớ dùng chung khác**</font>"
      ]
    },
    {
      "cell_type": "markdown",
      "metadata": {
        "id": "HAGvwx7o6Lzt"
      },
      "source": [
        "### 1. Chạy lệnh dưới đây để hiển thị danh sách **Bộ nhớ dùng chung** của bạn\n",
        "##### *Bộ nhớ dùng chung ẩn sẽ không được liệt kê*\n",
        "##### *(Bạn cần kiểm tra có Bộ nhớ dùng chung nào bị ẩn không)*"
      ]
    },
    {
      "cell_type": "code",
      "metadata": {
        "id": "5mgayuLC5vsF",
        "colab": {
          "base_uri": "https://localhost:8080/"
        },
        "outputId": "10a81a0c-6b32-4fa6-83cd-93341e8aedb8"
      },
      "source": [
        "!ls '/gdrive/Shared drives'"
      ],
      "execution_count": null,
      "outputs": [
        {
          "output_type": "stream",
          "text": [
            " trankhoa1989@gmail.com  'Vô Thường Drive'\n"
          ],
          "name": "stdout"
        }
      ]
    },
    {
      "cell_type": "markdown",
      "metadata": {
        "id": "JRxPB9D3_e9J"
      },
      "source": [
        "### 2. Thay thế"
      ]
    },
    {
      "cell_type": "markdown",
      "metadata": {
        "id": "NR6TGSl16U7D"
      },
      "source": [
        "- `TEAMDRIVE_1` - Tên Bộ nhớ dùng chung nguồn\n",
        "- `TEAMDRIVE_2` Tên Bộ nhớ dùng chung muốn copy đến\n",
        "- `FOLDER_1` Tên Folder trong Bộ nhớ dùng chung nguồn muốn copy đi"
      ]
    },
    {
      "cell_type": "code",
      "metadata": {
        "id": "Tg6bcLrd8RJm",
        "colab": {
          "base_uri": "https://localhost:8080/"
        },
        "outputId": "b7aac658-6138-4140-f0f7-c0c731574357"
      },
      "source": [
        "!cp -av '/gdrive/Shared drives/trankhoa1989@gmail.com/Khoa nè/Nguyên Phong' '/gdrive/Shared drives/Vô Thường Drive'"
      ],
      "execution_count": null,
      "outputs": [
        {
          "output_type": "stream",
          "text": [
            "'/gdrive/Shared drives/trankhoa1989@gmail.com/Khoa nè/Nguyên Phong/HÀNH TRÌNH VỀ PHƯƠNG ĐÔNG - DR. BAIRD THOMAS SPALDING - HẺM RADIO.mp3' -> '/gdrive/Shared drives/Vô Thường Drive/Nguyên Phong/HÀNH TRÌNH VỀ PHƯƠNG ĐÔNG - DR. BAIRD THOMAS SPALDING - HẺM RADIO.mp3'\n",
            "'/gdrive/Shared drives/trankhoa1989@gmail.com/Khoa nè/Nguyên Phong/BÊN RẶNG TUYẾT SƠN - TRỌN BỘ - SWAMI AMAR JYOTI - NGUYÊN PHONG - HẺM RADIO.mp3' -> '/gdrive/Shared drives/Vô Thường Drive/Nguyên Phong/BÊN RẶNG TUYẾT SƠN - TRỌN BỘ - SWAMI AMAR JYOTI - NGUYÊN PHONG - HẺM RADIO.mp3'\n",
            "'/gdrive/Shared drives/trankhoa1989@gmail.com/Khoa nè/Nguyên Phong/DAU CHAN TRÊN CÁT FULL.mp3' -> '/gdrive/Shared drives/Vô Thường Drive/Nguyên Phong/DAU CHAN TRÊN CÁT FULL.mp3'\n",
            "'/gdrive/Shared drives/trankhoa1989@gmail.com/Khoa nè/Nguyên Phong/ĐƯỜNG MÂY QUA XỨ TUYẾT - NGUYÊN PHONG - TRỌN BỘ - HẺM RADIO.mp3' -> '/gdrive/Shared drives/Vô Thường Drive/Nguyên Phong/ĐƯỜNG MÂY QUA XỨ TUYẾT - NGUYÊN PHONG - TRỌN BỘ - HẺM RADIO.mp3'\n",
            "'/gdrive/Shared drives/trankhoa1989@gmail.com/Khoa nè/Nguyên Phong/HOA TRÔI TRÊN SÓNG NƯỚC FULL.mp3' -> '/gdrive/Shared drives/Vô Thường Drive/Nguyên Phong/HOA TRÔI TRÊN SÓNG NƯỚC FULL.mp3'\n",
            "'/gdrive/Shared drives/trankhoa1989@gmail.com/Khoa nè/Nguyên Phong/HUYỀN THUẬT VÀ CÁC ĐẠO SĨ TÂY TẠNG - TRỌN BỘ - NGUYÊN PHONG - -KẺ TRỘM HƯƠNG-.mp3' -> '/gdrive/Shared drives/Vô Thường Drive/Nguyên Phong/HUYỀN THUẬT VÀ CÁC ĐẠO SĨ TÂY TẠNG - TRỌN BỘ - NGUYÊN PHONG - -KẺ TRỘM HƯƠNG-.mp3'\n",
            "'/gdrive/Shared drives/trankhoa1989@gmail.com/Khoa nè/Nguyên Phong/MINH TRIẾT TRONG ĐỜI SỐNG - DARSHANI DEANE - NGUYÊN PHONG - TRẦN NGỌC SAN - HẺM RADIO.mp3' -> '/gdrive/Shared drives/Vô Thường Drive/Nguyên Phong/MINH TRIẾT TRONG ĐỜI SỐNG - DARSHANI DEANE - NGUYÊN PHONG - TRẦN NGỌC SAN - HẺM RADIO.mp3'\n",
            "'/gdrive/Shared drives/trankhoa1989@gmail.com/Khoa nè/Nguyên Phong/NHÀ GIẢ KIM - PAULO COELHO - TRỌN BỘ - -KẺ TRỘM HƯƠNG-.mp3' -> '/gdrive/Shared drives/Vô Thường Drive/Nguyên Phong/NHÀ GIẢ KIM - PAULO COELHO - TRỌN BỘ - -KẺ TRỘM HƯƠNG-.mp3'\n",
            "'/gdrive/Shared drives/trankhoa1989@gmail.com/Khoa nè/Nguyên Phong/TRỞ VỀ TỪ CÕI SÁNG_FULL.mp3' -> '/gdrive/Shared drives/Vô Thường Drive/Nguyên Phong/TRỞ VỀ TỪ CÕI SÁNG_FULL.mp3'\n",
            "'/gdrive/Shared drives/trankhoa1989@gmail.com/Khoa nè/Nguyên Phong/TỬ THƯ TÂY TẠNG - NGUYÊN PHONG - -KẺ TRỘM HƯƠNG-.mp3' -> '/gdrive/Shared drives/Vô Thường Drive/Nguyên Phong/TỬ THƯ TÂY TẠNG - NGUYÊN PHONG - -KẺ TRỘM HƯƠNG-.mp3'\n",
            "'/gdrive/Shared drives/trankhoa1989@gmail.com/Khoa nè/Nguyên Phong/TỬ THƯ TÂY TẠNG - TRỞ VỀ TỪ CÕI SÁNG - NGUYÊN PHONG - TRẦN NGỌC SAN - HẺM RADIO.mp3' -> '/gdrive/Shared drives/Vô Thường Drive/Nguyên Phong/TỬ THƯ TÂY TẠNG - TRỞ VỀ TỪ CÕI SÁNG - NGUYÊN PHONG - TRẦN NGỌC SAN - HẺM RADIO.mp3'\n",
            "'/gdrive/Shared drives/trankhoa1989@gmail.com/Khoa nè/Nguyên Phong/01_cuoc_gap_tien_dinh_colorado_series_cau_chuyen_luan_hoi_ke_trom_huong_6229899699188590347.mp3' -> '/gdrive/Shared drives/Vô Thường Drive/Nguyên Phong/01_cuoc_gap_tien_dinh_colorado_series_cau_chuyen_luan_hoi_ke_trom_huong_6229899699188590347.mp3'\n",
            "'/gdrive/Shared drives/trankhoa1989@gmail.com/Khoa nè/Nguyên Phong/01_nhan_duyen_tai_dai_bac_series_cau_chuyen_luan_hoi_ke_trom_huong_-7674994683151700516.mp3' -> '/gdrive/Shared drives/Vô Thường Drive/Nguyên Phong/01_nhan_duyen_tai_dai_bac_series_cau_chuyen_luan_hoi_ke_trom_huong_-7674994683151700516.mp3'\n",
            "'/gdrive/Shared drives/trankhoa1989@gmail.com/Khoa nè/Nguyên Phong/02_tien_kiep_day_song_atlantics_series_cau_chuyen_luan_hoi_ke_trom_huong_-4913061694702653676.mp3' -> '/gdrive/Shared drives/Vô Thường Drive/Nguyên Phong/02_tien_kiep_day_song_atlantics_series_cau_chuyen_luan_hoi_ke_trom_huong_-4913061694702653676.mp3'\n",
            "'/gdrive/Shared drives/trankhoa1989@gmail.com/Khoa nè/Nguyên Phong/NHÀ GIẢ KIM _ PAULO COELHO _ TRẦN NGỌC SAN _ HẺM RADIO_320kbps.mp3' -> '/gdrive/Shared drives/Vô Thường Drive/Nguyên Phong/NHÀ GIẢ KIM _ PAULO COELHO _ TRẦN NGỌC SAN _ HẺM RADIO_320kbps.mp3'\n"
          ],
          "name": "stdout"
        }
      ]
    }
  ]
}